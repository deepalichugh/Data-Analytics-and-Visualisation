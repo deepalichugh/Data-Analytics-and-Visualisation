{
 "cells": [
  {
   "cell_type": "code",
   "execution_count": 1,
   "id": "ac2961ed",
   "metadata": {},
   "outputs": [],
   "source": [
    "import pandas as pd\n",
    "import numpy as np\n",
    "import matplotlib.pyplot as plt"
   ]
  },
  {
   "cell_type": "code",
   "execution_count": 2,
   "id": "556270b9",
   "metadata": {},
   "outputs": [],
   "source": [
    "data = pd.read_csv('Clinic_Patients_messy.csv')"
   ]
  },
  {
   "cell_type": "code",
   "execution_count": 3,
   "id": "13e969b1",
   "metadata": {},
   "outputs": [
    {
     "data": {
      "text/html": [
       "<div>\n",
       "<style scoped>\n",
       "    .dataframe tbody tr th:only-of-type {\n",
       "        vertical-align: middle;\n",
       "    }\n",
       "\n",
       "    .dataframe tbody tr th {\n",
       "        vertical-align: top;\n",
       "    }\n",
       "\n",
       "    .dataframe thead th {\n",
       "        text-align: right;\n",
       "    }\n",
       "</style>\n",
       "<table border=\"1\" class=\"dataframe\">\n",
       "  <thead>\n",
       "    <tr style=\"text-align: right;\">\n",
       "      <th></th>\n",
       "      <th>Patient_ID</th>\n",
       "      <th>Height</th>\n",
       "      <th>Weight</th>\n",
       "      <th>Gender</th>\n",
       "      <th>Systolic_BP&amp;Diastolic_BP</th>\n",
       "      <th>Age</th>\n",
       "    </tr>\n",
       "  </thead>\n",
       "  <tbody>\n",
       "    <tr>\n",
       "      <th>0</th>\n",
       "      <td>1</td>\n",
       "      <td>166.0</td>\n",
       "      <td>89.0</td>\n",
       "      <td>Male</td>\n",
       "      <td>160/110</td>\n",
       "      <td>52</td>\n",
       "    </tr>\n",
       "    <tr>\n",
       "      <th>1</th>\n",
       "      <td>2</td>\n",
       "      <td>173.0</td>\n",
       "      <td>75.0</td>\n",
       "      <td>Female</td>\n",
       "      <td>145/74</td>\n",
       "      <td>30</td>\n",
       "    </tr>\n",
       "    <tr>\n",
       "      <th>2</th>\n",
       "      <td>3</td>\n",
       "      <td>209.0</td>\n",
       "      <td>92.0</td>\n",
       "      <td>Female</td>\n",
       "      <td>150/95</td>\n",
       "      <td>41</td>\n",
       "    </tr>\n",
       "    <tr>\n",
       "      <th>3</th>\n",
       "      <td>4</td>\n",
       "      <td>175.0</td>\n",
       "      <td>79.0</td>\n",
       "      <td>Female</td>\n",
       "      <td>135/90</td>\n",
       "      <td>25 years</td>\n",
       "    </tr>\n",
       "    <tr>\n",
       "      <th>4</th>\n",
       "      <td>5</td>\n",
       "      <td>177.0</td>\n",
       "      <td>82.0</td>\n",
       "      <td>Male</td>\n",
       "      <td>145/90</td>\n",
       "      <td>63</td>\n",
       "    </tr>\n",
       "    <tr>\n",
       "      <th>...</th>\n",
       "      <td>...</td>\n",
       "      <td>...</td>\n",
       "      <td>...</td>\n",
       "      <td>...</td>\n",
       "      <td>...</td>\n",
       "      <td>...</td>\n",
       "    </tr>\n",
       "    <tr>\n",
       "      <th>145</th>\n",
       "      <td>146</td>\n",
       "      <td>217.0</td>\n",
       "      <td>107.0</td>\n",
       "      <td>Female</td>\n",
       "      <td>143/77</td>\n",
       "      <td>85</td>\n",
       "    </tr>\n",
       "    <tr>\n",
       "      <th>146</th>\n",
       "      <td>147</td>\n",
       "      <td>180.0</td>\n",
       "      <td>142.0</td>\n",
       "      <td>Female</td>\n",
       "      <td>169/109</td>\n",
       "      <td>76</td>\n",
       "    </tr>\n",
       "    <tr>\n",
       "      <th>147</th>\n",
       "      <td>148</td>\n",
       "      <td>184.0</td>\n",
       "      <td>145.0</td>\n",
       "      <td>Female</td>\n",
       "      <td>155/84</td>\n",
       "      <td>77</td>\n",
       "    </tr>\n",
       "    <tr>\n",
       "      <th>148</th>\n",
       "      <td>149</td>\n",
       "      <td>178.0</td>\n",
       "      <td>82.0</td>\n",
       "      <td>Male</td>\n",
       "      <td>148/101</td>\n",
       "      <td>70</td>\n",
       "    </tr>\n",
       "    <tr>\n",
       "      <th>149</th>\n",
       "      <td>150</td>\n",
       "      <td>198.0</td>\n",
       "      <td>96.0</td>\n",
       "      <td>Male</td>\n",
       "      <td>113/77</td>\n",
       "      <td>52</td>\n",
       "    </tr>\n",
       "  </tbody>\n",
       "</table>\n",
       "<p>150 rows × 6 columns</p>\n",
       "</div>"
      ],
      "text/plain": [
       "     Patient_ID  Height  Weight  Gender Systolic_BP&Diastolic_BP       Age\n",
       "0             1   166.0    89.0    Male                  160/110        52\n",
       "1             2   173.0    75.0  Female                   145/74        30\n",
       "2             3   209.0    92.0  Female                   150/95        41\n",
       "3             4   175.0    79.0  Female                   135/90  25 years\n",
       "4             5   177.0    82.0    Male                   145/90        63\n",
       "..          ...     ...     ...     ...                      ...       ...\n",
       "145         146   217.0   107.0  Female                   143/77        85\n",
       "146         147   180.0   142.0  Female                  169/109        76\n",
       "147         148   184.0   145.0  Female                   155/84        77\n",
       "148         149   178.0    82.0    Male                  148/101        70\n",
       "149         150   198.0    96.0    Male                   113/77        52\n",
       "\n",
       "[150 rows x 6 columns]"
      ]
     },
     "execution_count": 3,
     "metadata": {},
     "output_type": "execute_result"
    }
   ],
   "source": [
    "data"
   ]
  },
  {
   "cell_type": "code",
   "execution_count": 4,
   "id": "ac39702b",
   "metadata": {},
   "outputs": [
    {
     "name": "stdout",
     "output_type": "stream",
     "text": [
      "     Patient_ID  Height  Weight  Gender       Age Systolic_BP Diastolic_BP\n",
      "0             1   166.0    89.0    Male        52         160          110\n",
      "1             2   173.0    75.0  Female        30         145           74\n",
      "2             3   209.0    92.0  Female        41         150           95\n",
      "3             4   175.0    79.0  Female  25 years         135           90\n",
      "4             5   177.0    82.0    Male        63         145           90\n",
      "..          ...     ...     ...     ...       ...         ...          ...\n",
      "145         146   217.0   107.0  Female        85         143           77\n",
      "146         147   180.0   142.0  Female        76         169          109\n",
      "147         148   184.0   145.0  Female        77         155           84\n",
      "148         149   178.0    82.0    Male        70         148          101\n",
      "149         150   198.0    96.0    Male        52         113           77\n",
      "\n",
      "[150 rows x 7 columns]\n"
     ]
    }
   ],
   "source": [
    "#Dividing Systolic_BP&Diastolic_BP into two separate columns split by '/'\n",
    "\n",
    "data[['Systolic_BP','Diastolic_BP']] = data['Systolic_BP&Diastolic_BP'].str.split('/',expand=True)\n",
    "data.drop('Systolic_BP&Diastolic_BP', axis=1, inplace=True)\n",
    "print(data)"
   ]
  },
  {
   "cell_type": "code",
   "execution_count": 5,
   "id": "c5796fc0",
   "metadata": {},
   "outputs": [
    {
     "name": "stdout",
     "output_type": "stream",
     "text": [
      "Patient_ID      0\n",
      "Height          4\n",
      "Weight          4\n",
      "Gender          0\n",
      "Age             0\n",
      "Systolic_BP     0\n",
      "Diastolic_BP    0\n",
      "dtype: int64\n"
     ]
    }
   ],
   "source": [
    "#Count number of Missing Values\n",
    "print(data.isna().sum())"
   ]
  },
  {
   "cell_type": "code",
   "execution_count": 6,
   "id": "bbe7b6f7",
   "metadata": {},
   "outputs": [],
   "source": [
    "#Replace missing values in column 'Height' with 0\n",
    "data['Height'].fillna(0, inplace = True)"
   ]
  },
  {
   "cell_type": "code",
   "execution_count": 7,
   "id": "42ca8f5f",
   "metadata": {},
   "outputs": [
    {
     "name": "stdout",
     "output_type": "stream",
     "text": [
      "Patient_ID      0\n",
      "Height          0\n",
      "Weight          4\n",
      "Gender          0\n",
      "Age             0\n",
      "Systolic_BP     0\n",
      "Diastolic_BP    0\n",
      "dtype: int64\n"
     ]
    }
   ],
   "source": [
    "#Calculate new sum of missing valued columns\n",
    "print(data.isna().sum())"
   ]
  },
  {
   "cell_type": "code",
   "execution_count": 8,
   "id": "9948f0c0",
   "metadata": {},
   "outputs": [],
   "source": [
    "#Replace missing values in column 'Weight' with 0\n",
    "data['Weight'].fillna(0, inplace = True)"
   ]
  },
  {
   "cell_type": "code",
   "execution_count": 9,
   "id": "aa613e06",
   "metadata": {},
   "outputs": [
    {
     "name": "stdout",
     "output_type": "stream",
     "text": [
      "Patient_ID      0\n",
      "Height          0\n",
      "Weight          0\n",
      "Gender          0\n",
      "Age             0\n",
      "Systolic_BP     0\n",
      "Diastolic_BP    0\n",
      "dtype: int64\n"
     ]
    }
   ],
   "source": [
    "#Calculate new sum of missing valued columns\n",
    "print(data.isna().sum())"
   ]
  },
  {
   "cell_type": "code",
   "execution_count": 10,
   "id": "49ab46e9",
   "metadata": {},
   "outputs": [],
   "source": [
    "#Changing data type of column 'Gender' to String, 'Systolic_BP' to int and 'Diastolic_BP' to int\n",
    "data['Gender'] = data['Gender'].astype('string')\n",
    "data['Systolic_BP'] = data['Systolic_BP'].astype(int)\n",
    "data['Diastolic_BP'] = data['Diastolic_BP'].astype(int)"
   ]
  },
  {
   "cell_type": "code",
   "execution_count": 11,
   "id": "0b5c18d9",
   "metadata": {},
   "outputs": [
    {
     "name": "stdout",
     "output_type": "stream",
     "text": [
      "Patient_ID        int64\n",
      "Height          float64\n",
      "Weight          float64\n",
      "Gender           string\n",
      "Age              object\n",
      "Systolic_BP       int32\n",
      "Diastolic_BP      int32\n",
      "dtype: object\n"
     ]
    }
   ],
   "source": [
    "print(data.dtypes)"
   ]
  },
  {
   "cell_type": "code",
   "execution_count": 12,
   "id": "ed93d778",
   "metadata": {},
   "outputs": [
    {
     "name": "stdout",
     "output_type": "stream",
     "text": [
      "     Patient_ID  Height  Weight  Gender Age  Systolic_BP  Diastolic_BP\n",
      "0             1   166.0    89.0    Male  52          160           110\n",
      "1             2   173.0    75.0  Female  30          145            74\n",
      "2             3   209.0    92.0  Female  41          150            95\n",
      "3             4   175.0    79.0  Female  25          135            90\n",
      "4             5   177.0    82.0    Male  63          145            90\n",
      "..          ...     ...     ...     ...  ..          ...           ...\n",
      "145         146   217.0   107.0  Female  85          143            77\n",
      "146         147   180.0   142.0  Female  76          169           109\n",
      "147         148   184.0   145.0  Female  77          155            84\n",
      "148         149   178.0    82.0    Male  70          148           101\n",
      "149         150   198.0    96.0    Male  52          113            77\n",
      "\n",
      "[150 rows x 7 columns]\n"
     ]
    }
   ],
   "source": [
    "#Replacing cell values in column 'Age' that have years in value\n",
    "\n",
    "data[['Age','Age2']] = data['Age'].str.split(' ',expand=True)\n",
    "data.drop('Age2', axis=1, inplace=True)\n",
    "print(data)"
   ]
  },
  {
   "cell_type": "code",
   "execution_count": 14,
   "id": "625a36d4",
   "metadata": {},
   "outputs": [],
   "source": [
    "#Changing datatype of column 'Age' to integer\n",
    "data['Age'] = data['Age'].astype(int)"
   ]
  },
  {
   "cell_type": "code",
   "execution_count": 15,
   "id": "2fa292a5",
   "metadata": {},
   "outputs": [
    {
     "data": {
      "text/plain": [
       "Patient_ID        int64\n",
       "Height          float64\n",
       "Weight          float64\n",
       "Gender           string\n",
       "Age               int32\n",
       "Systolic_BP       int32\n",
       "Diastolic_BP      int32\n",
       "dtype: object"
      ]
     },
     "execution_count": 15,
     "metadata": {},
     "output_type": "execute_result"
    }
   ],
   "source": [
    "data.dtypes"
   ]
  },
  {
   "cell_type": "code",
   "execution_count": 16,
   "id": "ab535b68",
   "metadata": {},
   "outputs": [
    {
     "data": {
      "image/png": "[encoded data removed]",
      "text/plain": [
       "<Figure size 432x288 with 1 Axes>"
      ]
     },
     "metadata": {
      "needs_background": "light"
     },
     "output_type": "display_data"
    }
   ],
   "source": [
    "plt.boxplot(data.Age)\n",
    "plt.show()\n",
    "\n",
    "plt.boxplot(data.Age)"
   ]
  },
  {
   "cell_type": "code",
   "execution_count": 18,
   "id": "2a34ed17",
   "metadata": {},
   "outputs": [
    {
     "name": "stdout",
     "output_type": "stream",
     "text": [
      "<class 'pandas.core.frame.DataFrame'>\n",
      "RangeIndex: 150 entries, 0 to 149\n",
      "Data columns (total 7 columns):\n",
      " #   Column        Non-Null Count  Dtype  \n",
      "---  ------        --------------  -----  \n",
      " 0   Patient_ID    150 non-null    int64  \n",
      " 1   Height        150 non-null    float64\n",
      " 2   Weight        150 non-null    float64\n",
      " 3   Gender        150 non-null    string \n",
      " 4   Age           150 non-null    int32  \n",
      " 5   Systolic_BP   150 non-null    int32  \n",
      " 6   Diastolic_BP  150 non-null    int32  \n",
      "dtypes: float64(2), int32(3), int64(1), string(1)\n",
      "memory usage: 6.6 KB\n"
     ]
    }
   ],
   "source": [
    "data.info()"
   ]
  },
  {
   "cell_type": "code",
   "execution_count": 25,
   "id": "ba7dedc2",
   "metadata": {},
   "outputs": [
    {
     "data": {
      "text/plain": [
       "Patient_ID        int64\n",
       "Height          float64\n",
       "Weight          float64\n",
       "Gender           string\n",
       "Age               int32\n",
       "Systolic_BP       int32\n",
       "Diastolic_BP      int32\n",
       "dtype: object"
      ]
     },
     "execution_count": 25,
     "metadata": {},
     "output_type": "execute_result"
    }
   ],
   "source": [
    "data.dtypes"
   ]
  },
  {
   "cell_type": "code",
   "execution_count": 33,
   "id": "6ace7bc7",
   "metadata": {},
   "outputs": [],
   "source": [
    "#Filter rows with Height and Weight as 0 and filtering outliers\n",
    "data = (data[(data['Height'] != 0) & (data['Weight'] != 0)])"
   ]
  },
  {
   "cell_type": "code",
   "execution_count": 34,
   "id": "cc08804b",
   "metadata": {},
   "outputs": [],
   "source": [
    "#Filter rows with 'Age' greater than 150\n",
    "data = (data[data['Age']<150])"
   ]
  },
  {
   "cell_type": "code",
   "execution_count": 35,
   "id": "957b47ab",
   "metadata": {},
   "outputs": [
    {
     "name": "stdout",
     "output_type": "stream",
     "text": [
      "     Patient_ID  Height  Weight  Gender  Age  Systolic_BP  Diastolic_BP\n",
      "0             1   166.0    89.0    Male   52          160           110\n",
      "1             2   173.0    75.0  Female   30          145            74\n",
      "2             3   209.0    92.0  Female   41          150            95\n",
      "3             4   175.0    79.0  Female   25          135            90\n",
      "4             5   177.0    82.0    Male   63          145            90\n",
      "..          ...     ...     ...     ...  ...          ...           ...\n",
      "145         146   217.0   107.0  Female   85          143            77\n",
      "146         147   180.0   142.0  Female   76          169           109\n",
      "147         148   184.0   145.0  Female   77          155            84\n",
      "148         149   178.0    82.0    Male   70          148           101\n",
      "149         150   198.0    96.0    Male   52          113            77\n",
      "\n",
      "[144 rows x 7 columns]\n"
     ]
    }
   ],
   "source": [
    "print(data)"
   ]
  }
 ],
 "metadata": {
  "kernelspec": {
   "display_name": "Python 3 (ipykernel)",
   "language": "python",
   "name": "python3"
  },
  "language_info": {
   "codemirror_mode": {
    "name": "ipython",
    "version": 3
   },
   "file_extension": ".py",
   "mimetype": "text/x-python",
   "name": "python",
   "nbconvert_exporter": "python",
   "pygments_lexer": "ipython3",
   "version": "3.9.12"
  }
 },
 "nbformat": 4,
 "nbformat_minor": 5
}
