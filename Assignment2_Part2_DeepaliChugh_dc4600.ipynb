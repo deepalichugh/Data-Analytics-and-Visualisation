{
 "cells": [
  {
   "cell_type": "code",
   "execution_count": 1,
   "id": "bc6ac80d",
   "metadata": {},
   "outputs": [],
   "source": [
    "import pandas as pd\n",
    "import numpy as np\n",
    "import matplotlib.pyplot as plt"
   ]
  },
  {
   "cell_type": "code",
   "execution_count": 2,
   "id": "a1c3a903",
   "metadata": {},
   "outputs": [],
   "source": [
    "data = pd.read_csv('covid_19_data.csv')"
   ]
  },
  {
   "cell_type": "code",
   "execution_count": 3,
   "id": "de88a41e",
   "metadata": {},
   "outputs": [
    {
     "data": {
      "text/html": [
       "<div>\n",
       "<style scoped>\n",
       "    .dataframe tbody tr th:only-of-type {\n",
       "        vertical-align: middle;\n",
       "    }\n",
       "\n",
       "    .dataframe tbody tr th {\n",
       "        vertical-align: top;\n",
       "    }\n",
       "\n",
       "    .dataframe thead th {\n",
       "        text-align: right;\n",
       "    }\n",
       "</style>\n",
       "<table border=\"1\" class=\"dataframe\">\n",
       "  <thead>\n",
       "    <tr style=\"text-align: right;\">\n",
       "      <th></th>\n",
       "      <th>SNo</th>\n",
       "      <th>ObservationDate</th>\n",
       "      <th>Province/State</th>\n",
       "      <th>Country/Region</th>\n",
       "      <th>Last Update</th>\n",
       "      <th>Confirmed</th>\n",
       "      <th>Deaths</th>\n",
       "      <th>Recovered</th>\n",
       "    </tr>\n",
       "  </thead>\n",
       "  <tbody>\n",
       "    <tr>\n",
       "      <th>0</th>\n",
       "      <td>1</td>\n",
       "      <td>01/22/2020</td>\n",
       "      <td>Anhui</td>\n",
       "      <td>Mainland China</td>\n",
       "      <td>1/22/2020 17:00</td>\n",
       "      <td>1.0</td>\n",
       "      <td>0.0</td>\n",
       "      <td>0.0</td>\n",
       "    </tr>\n",
       "    <tr>\n",
       "      <th>1</th>\n",
       "      <td>2</td>\n",
       "      <td>01/22/2020</td>\n",
       "      <td>Beijing</td>\n",
       "      <td>Mainland China</td>\n",
       "      <td>1/22/2020 17:00</td>\n",
       "      <td>14.0</td>\n",
       "      <td>0.0</td>\n",
       "      <td>0.0</td>\n",
       "    </tr>\n",
       "    <tr>\n",
       "      <th>2</th>\n",
       "      <td>3</td>\n",
       "      <td>01/22/2020</td>\n",
       "      <td>Chongqing</td>\n",
       "      <td>Mainland China</td>\n",
       "      <td>1/22/2020 17:00</td>\n",
       "      <td>6.0</td>\n",
       "      <td>0.0</td>\n",
       "      <td>0.0</td>\n",
       "    </tr>\n",
       "    <tr>\n",
       "      <th>3</th>\n",
       "      <td>4</td>\n",
       "      <td>01/22/2020</td>\n",
       "      <td>Fujian</td>\n",
       "      <td>Mainland China</td>\n",
       "      <td>1/22/2020 17:00</td>\n",
       "      <td>1.0</td>\n",
       "      <td>0.0</td>\n",
       "      <td>0.0</td>\n",
       "    </tr>\n",
       "    <tr>\n",
       "      <th>4</th>\n",
       "      <td>5</td>\n",
       "      <td>01/22/2020</td>\n",
       "      <td>Gansu</td>\n",
       "      <td>Mainland China</td>\n",
       "      <td>1/22/2020 17:00</td>\n",
       "      <td>0.0</td>\n",
       "      <td>0.0</td>\n",
       "      <td>0.0</td>\n",
       "    </tr>\n",
       "    <tr>\n",
       "      <th>...</th>\n",
       "      <td>...</td>\n",
       "      <td>...</td>\n",
       "      <td>...</td>\n",
       "      <td>...</td>\n",
       "      <td>...</td>\n",
       "      <td>...</td>\n",
       "      <td>...</td>\n",
       "      <td>...</td>\n",
       "    </tr>\n",
       "    <tr>\n",
       "      <th>306424</th>\n",
       "      <td>306425</td>\n",
       "      <td>05/29/2021</td>\n",
       "      <td>Zaporizhia Oblast</td>\n",
       "      <td>Ukraine</td>\n",
       "      <td>2021-05-30 04:20:55</td>\n",
       "      <td>102641.0</td>\n",
       "      <td>2335.0</td>\n",
       "      <td>95289.0</td>\n",
       "    </tr>\n",
       "    <tr>\n",
       "      <th>306425</th>\n",
       "      <td>306426</td>\n",
       "      <td>05/29/2021</td>\n",
       "      <td>Zeeland</td>\n",
       "      <td>Netherlands</td>\n",
       "      <td>2021-05-30 04:20:55</td>\n",
       "      <td>29147.0</td>\n",
       "      <td>245.0</td>\n",
       "      <td>0.0</td>\n",
       "    </tr>\n",
       "    <tr>\n",
       "      <th>306426</th>\n",
       "      <td>306427</td>\n",
       "      <td>05/29/2021</td>\n",
       "      <td>Zhejiang</td>\n",
       "      <td>Mainland China</td>\n",
       "      <td>2021-05-30 04:20:55</td>\n",
       "      <td>1364.0</td>\n",
       "      <td>1.0</td>\n",
       "      <td>1324.0</td>\n",
       "    </tr>\n",
       "    <tr>\n",
       "      <th>306427</th>\n",
       "      <td>306428</td>\n",
       "      <td>05/29/2021</td>\n",
       "      <td>Zhytomyr Oblast</td>\n",
       "      <td>Ukraine</td>\n",
       "      <td>2021-05-30 04:20:55</td>\n",
       "      <td>87550.0</td>\n",
       "      <td>1738.0</td>\n",
       "      <td>83790.0</td>\n",
       "    </tr>\n",
       "    <tr>\n",
       "      <th>306428</th>\n",
       "      <td>306429</td>\n",
       "      <td>05/29/2021</td>\n",
       "      <td>Zuid-Holland</td>\n",
       "      <td>Netherlands</td>\n",
       "      <td>2021-05-30 04:20:55</td>\n",
       "      <td>391559.0</td>\n",
       "      <td>4252.0</td>\n",
       "      <td>0.0</td>\n",
       "    </tr>\n",
       "  </tbody>\n",
       "</table>\n",
       "<p>306429 rows × 8 columns</p>\n",
       "</div>"
      ],
      "text/plain": [
       "           SNo ObservationDate     Province/State  Country/Region  \\\n",
       "0            1      01/22/2020              Anhui  Mainland China   \n",
       "1            2      01/22/2020            Beijing  Mainland China   \n",
       "2            3      01/22/2020          Chongqing  Mainland China   \n",
       "3            4      01/22/2020             Fujian  Mainland China   \n",
       "4            5      01/22/2020              Gansu  Mainland China   \n",
       "...        ...             ...                ...             ...   \n",
       "306424  306425      05/29/2021  Zaporizhia Oblast         Ukraine   \n",
       "306425  306426      05/29/2021            Zeeland     Netherlands   \n",
       "306426  306427      05/29/2021           Zhejiang  Mainland China   \n",
       "306427  306428      05/29/2021    Zhytomyr Oblast         Ukraine   \n",
       "306428  306429      05/29/2021       Zuid-Holland     Netherlands   \n",
       "\n",
       "                Last Update  Confirmed  Deaths  Recovered  \n",
       "0           1/22/2020 17:00        1.0     0.0        0.0  \n",
       "1           1/22/2020 17:00       14.0     0.0        0.0  \n",
       "2           1/22/2020 17:00        6.0     0.0        0.0  \n",
       "3           1/22/2020 17:00        1.0     0.0        0.0  \n",
       "4           1/22/2020 17:00        0.0     0.0        0.0  \n",
       "...                     ...        ...     ...        ...  \n",
       "306424  2021-05-30 04:20:55   102641.0  2335.0    95289.0  \n",
       "306425  2021-05-30 04:20:55    29147.0   245.0        0.0  \n",
       "306426  2021-05-30 04:20:55     1364.0     1.0     1324.0  \n",
       "306427  2021-05-30 04:20:55    87550.0  1738.0    83790.0  \n",
       "306428  2021-05-30 04:20:55   391559.0  4252.0        0.0  \n",
       "\n",
       "[306429 rows x 8 columns]"
      ]
     },
     "execution_count": 3,
     "metadata": {},
     "output_type": "execute_result"
    }
   ],
   "source": [
    "data"
   ]
  },
  {
   "cell_type": "code",
   "execution_count": 4,
   "id": "8314d1a8",
   "metadata": {},
   "outputs": [
    {
     "name": "stdout",
     "output_type": "stream",
     "text": [
      "<class 'pandas.core.frame.DataFrame'>\n",
      "RangeIndex: 306429 entries, 0 to 306428\n",
      "Data columns (total 8 columns):\n",
      " #   Column           Non-Null Count   Dtype  \n",
      "---  ------           --------------   -----  \n",
      " 0   SNo              306429 non-null  int64  \n",
      " 1   ObservationDate  306429 non-null  object \n",
      " 2   Province/State   228329 non-null  object \n",
      " 3   Country/Region   306429 non-null  object \n",
      " 4   Last Update      306429 non-null  object \n",
      " 5   Confirmed        306429 non-null  float64\n",
      " 6   Deaths           306429 non-null  float64\n",
      " 7   Recovered        306429 non-null  float64\n",
      "dtypes: float64(3), int64(1), object(4)\n",
      "memory usage: 18.7+ MB\n"
     ]
    }
   ],
   "source": [
    "data.info()"
   ]
  },
  {
   "cell_type": "code",
   "execution_count": 5,
   "id": "6c576118",
   "metadata": {},
   "outputs": [
    {
     "name": "stdout",
     "output_type": "stream",
     "text": [
      "           SNo ObservationDate     Province/State  Country/Region  Confirmed  \\\n",
      "0            1      01/22/2020              Anhui  Mainland China        1.0   \n",
      "1            2      01/22/2020            Beijing  Mainland China       14.0   \n",
      "2            3      01/22/2020          Chongqing  Mainland China        6.0   \n",
      "3            4      01/22/2020             Fujian  Mainland China        1.0   \n",
      "4            5      01/22/2020              Gansu  Mainland China        0.0   \n",
      "...        ...             ...                ...             ...        ...   \n",
      "306424  306425      05/29/2021  Zaporizhia Oblast         Ukraine   102641.0   \n",
      "306425  306426      05/29/2021            Zeeland     Netherlands    29147.0   \n",
      "306426  306427      05/29/2021           Zhejiang  Mainland China     1364.0   \n",
      "306427  306428      05/29/2021    Zhytomyr Oblast         Ukraine    87550.0   \n",
      "306428  306429      05/29/2021       Zuid-Holland     Netherlands   391559.0   \n",
      "\n",
      "        Deaths  Recovered Last Update Date Last Update Time  \n",
      "0          0.0        0.0        1/22/2020            17:00  \n",
      "1          0.0        0.0        1/22/2020            17:00  \n",
      "2          0.0        0.0        1/22/2020            17:00  \n",
      "3          0.0        0.0        1/22/2020            17:00  \n",
      "4          0.0        0.0        1/22/2020            17:00  \n",
      "...        ...        ...              ...              ...  \n",
      "306424  2335.0    95289.0       2021-05-30         04:20:55  \n",
      "306425   245.0        0.0       2021-05-30         04:20:55  \n",
      "306426     1.0     1324.0       2021-05-30         04:20:55  \n",
      "306427  1738.0    83790.0       2021-05-30         04:20:55  \n",
      "306428  4252.0        0.0       2021-05-30         04:20:55  \n",
      "\n",
      "[306429 rows x 9 columns]\n"
     ]
    }
   ],
   "source": [
    "#Splitting Last Update into two separate columns 'Last Update Date' & 'Last Update Time' split by ' '\n",
    "\n",
    "data[['Last Update Date','Last Update Time']] = data['Last Update'].str.split(' ',expand=True)\n",
    "data.drop('Last Update', axis=1, inplace=True)\n",
    "print(data)"
   ]
  },
  {
   "cell_type": "code",
   "execution_count": 6,
   "id": "81524f06",
   "metadata": {},
   "outputs": [
    {
     "name": "stdout",
     "output_type": "stream",
     "text": [
      "           SNo ObservationDate     Province/State  Country/Region  Confirmed  \\\n",
      "0            1      2020-01-22              Anhui  Mainland China        1.0   \n",
      "1            2      2020-01-22            Beijing  Mainland China       14.0   \n",
      "2            3      2020-01-22          Chongqing  Mainland China        6.0   \n",
      "3            4      2020-01-22             Fujian  Mainland China        1.0   \n",
      "4            5      2020-01-22              Gansu  Mainland China        0.0   \n",
      "...        ...             ...                ...             ...        ...   \n",
      "306424  306425      2021-05-29  Zaporizhia Oblast         Ukraine   102641.0   \n",
      "306425  306426      2021-05-29            Zeeland     Netherlands    29147.0   \n",
      "306426  306427      2021-05-29           Zhejiang  Mainland China     1364.0   \n",
      "306427  306428      2021-05-29    Zhytomyr Oblast         Ukraine    87550.0   \n",
      "306428  306429      2021-05-29       Zuid-Holland     Netherlands   391559.0   \n",
      "\n",
      "        Deaths  Recovered Last Update Date Last Update Time  \n",
      "0          0.0        0.0        1/22/2020            17:00  \n",
      "1          0.0        0.0        1/22/2020            17:00  \n",
      "2          0.0        0.0        1/22/2020            17:00  \n",
      "3          0.0        0.0        1/22/2020            17:00  \n",
      "4          0.0        0.0        1/22/2020            17:00  \n",
      "...        ...        ...              ...              ...  \n",
      "306424  2335.0    95289.0       2021-05-30         04:20:55  \n",
      "306425   245.0        0.0       2021-05-30         04:20:55  \n",
      "306426     1.0     1324.0       2021-05-30         04:20:55  \n",
      "306427  1738.0    83790.0       2021-05-30         04:20:55  \n",
      "306428  4252.0        0.0       2021-05-30         04:20:55  \n",
      "\n",
      "[306429 rows x 9 columns]\n"
     ]
    }
   ],
   "source": [
    "#Converted object type of date in Column 'ObservationDate' to datetime type\n",
    "data['ObservationDate'] = pd.to_datetime(data['ObservationDate'])\n",
    "print(data)"
   ]
  },
  {
   "cell_type": "code",
   "execution_count": 7,
   "id": "78a371a9",
   "metadata": {},
   "outputs": [
    {
     "name": "stdout",
     "output_type": "stream",
     "text": [
      "           SNo ObservationDate     Province/State  Country/Region  Confirmed  \\\n",
      "0            1      2020-01-22              Anhui  Mainland China        1.0   \n",
      "1            2      2020-01-22            Beijing  Mainland China       14.0   \n",
      "2            3      2020-01-22          Chongqing  Mainland China        6.0   \n",
      "3            4      2020-01-22             Fujian  Mainland China        1.0   \n",
      "4            5      2020-01-22              Gansu  Mainland China        0.0   \n",
      "...        ...             ...                ...             ...        ...   \n",
      "306424  306425      2021-05-29  Zaporizhia Oblast         Ukraine   102641.0   \n",
      "306425  306426      2021-05-29            Zeeland     Netherlands    29147.0   \n",
      "306426  306427      2021-05-29           Zhejiang  Mainland China     1364.0   \n",
      "306427  306428      2021-05-29    Zhytomyr Oblast         Ukraine    87550.0   \n",
      "306428  306429      2021-05-29       Zuid-Holland     Netherlands   391559.0   \n",
      "\n",
      "        Deaths  Recovered Last Update Date Last Update Time  \n",
      "0          0.0        0.0       2020-01-22            17:00  \n",
      "1          0.0        0.0       2020-01-22            17:00  \n",
      "2          0.0        0.0       2020-01-22            17:00  \n",
      "3          0.0        0.0       2020-01-22            17:00  \n",
      "4          0.0        0.0       2020-01-22            17:00  \n",
      "...        ...        ...              ...              ...  \n",
      "306424  2335.0    95289.0       2021-05-30         04:20:55  \n",
      "306425   245.0        0.0       2021-05-30         04:20:55  \n",
      "306426     1.0     1324.0       2021-05-30         04:20:55  \n",
      "306427  1738.0    83790.0       2021-05-30         04:20:55  \n",
      "306428  4252.0        0.0       2021-05-30         04:20:55  \n",
      "\n",
      "[306429 rows x 9 columns]\n"
     ]
    }
   ],
   "source": [
    "#Converted date in Column 'Last Update Date' to datetime type\n",
    "\n",
    "data['Last Update Date'] = pd.to_datetime(data['Last Update Date'])\n",
    "print(data)"
   ]
  },
  {
   "cell_type": "code",
   "execution_count": 8,
   "id": "97f82c0a",
   "metadata": {},
   "outputs": [
    {
     "name": "stdout",
     "output_type": "stream",
     "text": [
      "<class 'pandas.core.frame.DataFrame'>\n",
      "RangeIndex: 306429 entries, 0 to 306428\n",
      "Data columns (total 9 columns):\n",
      " #   Column            Non-Null Count   Dtype         \n",
      "---  ------            --------------   -----         \n",
      " 0   SNo               306429 non-null  int64         \n",
      " 1   ObservationDate   306429 non-null  datetime64[ns]\n",
      " 2   Province/State    228329 non-null  object        \n",
      " 3   Country/Region    306429 non-null  object        \n",
      " 4   Confirmed         306429 non-null  float64       \n",
      " 5   Deaths            306429 non-null  float64       \n",
      " 6   Recovered         306429 non-null  float64       \n",
      " 7   Last Update Date  306429 non-null  datetime64[ns]\n",
      " 8   Last Update Time  299274 non-null  object        \n",
      "dtypes: datetime64[ns](2), float64(3), int64(1), object(3)\n",
      "memory usage: 21.0+ MB\n"
     ]
    }
   ],
   "source": [
    "data.info()"
   ]
  },
  {
   "cell_type": "code",
   "execution_count": 9,
   "id": "0a6ecc9a",
   "metadata": {},
   "outputs": [
    {
     "data": {
      "text/plain": [
       "SNo                     0\n",
       "ObservationDate         0\n",
       "Province/State      78100\n",
       "Country/Region          0\n",
       "Confirmed               0\n",
       "Deaths                  0\n",
       "Recovered               0\n",
       "Last Update Date        0\n",
       "Last Update Time     7155\n",
       "dtype: int64"
      ]
     },
     "execution_count": 9,
     "metadata": {},
     "output_type": "execute_result"
    }
   ],
   "source": [
    "#Count Missing Values\n",
    "\n",
    "data.isna().sum()"
   ]
  },
  {
   "cell_type": "code",
   "execution_count": 10,
   "id": "3544df18",
   "metadata": {},
   "outputs": [],
   "source": [
    "#Replace Missing Values in Province/State with a new String Value\n",
    "\n",
    "data['Province/State'].fillna('No address', inplace = True)"
   ]
  },
  {
   "cell_type": "code",
   "execution_count": 11,
   "id": "76cc8051",
   "metadata": {},
   "outputs": [
    {
     "data": {
      "text/plain": [
       "SNo                    0\n",
       "ObservationDate        0\n",
       "Province/State         0\n",
       "Country/Region         0\n",
       "Confirmed              0\n",
       "Deaths                 0\n",
       "Recovered              0\n",
       "Last Update Date       0\n",
       "Last Update Time    7155\n",
       "dtype: int64"
      ]
     },
     "execution_count": 11,
     "metadata": {},
     "output_type": "execute_result"
    }
   ],
   "source": [
    "#Count Missing Values again\n",
    "\n",
    "data.isna().sum()"
   ]
  },
  {
   "cell_type": "code",
   "execution_count": 12,
   "id": "51c0ba65",
   "metadata": {},
   "outputs": [
    {
     "name": "stdout",
     "output_type": "stream",
     "text": [
      "<class 'pandas.core.frame.DataFrame'>\n",
      "RangeIndex: 306429 entries, 0 to 306428\n",
      "Data columns (total 9 columns):\n",
      " #   Column            Non-Null Count   Dtype         \n",
      "---  ------            --------------   -----         \n",
      " 0   SNo               306429 non-null  int64         \n",
      " 1   ObservationDate   306429 non-null  datetime64[ns]\n",
      " 2   Province/State    306429 non-null  string        \n",
      " 3   Country/Region    306429 non-null  object        \n",
      " 4   Confirmed         306429 non-null  float64       \n",
      " 5   Deaths            306429 non-null  float64       \n",
      " 6   Recovered         306429 non-null  float64       \n",
      " 7   Last Update Date  306429 non-null  datetime64[ns]\n",
      " 8   Last Update Time  299274 non-null  object        \n",
      "dtypes: datetime64[ns](2), float64(3), int64(1), object(2), string(1)\n",
      "memory usage: 21.0+ MB\n"
     ]
    }
   ],
   "source": [
    "#Converted Column 'Province/State' from object type to string type\n",
    "\n",
    "data['Province/State'] = data['Province/State'].astype('string')\n",
    "data.info()"
   ]
  },
  {
   "cell_type": "code",
   "execution_count": 13,
   "id": "9b1f52a9",
   "metadata": {},
   "outputs": [
    {
     "name": "stdout",
     "output_type": "stream",
     "text": [
      "<class 'pandas.core.frame.DataFrame'>\n",
      "RangeIndex: 306429 entries, 0 to 306428\n",
      "Data columns (total 9 columns):\n",
      " #   Column            Non-Null Count   Dtype         \n",
      "---  ------            --------------   -----         \n",
      " 0   SNo               306429 non-null  int64         \n",
      " 1   ObservationDate   306429 non-null  datetime64[ns]\n",
      " 2   Province/State    306429 non-null  string        \n",
      " 3   Country/Region    306429 non-null  string        \n",
      " 4   Confirmed         306429 non-null  float64       \n",
      " 5   Deaths            306429 non-null  float64       \n",
      " 6   Recovered         306429 non-null  float64       \n",
      " 7   Last Update Date  306429 non-null  datetime64[ns]\n",
      " 8   Last Update Time  299274 non-null  object        \n",
      "dtypes: datetime64[ns](2), float64(3), int64(1), object(1), string(2)\n",
      "memory usage: 21.0+ MB\n"
     ]
    }
   ],
   "source": [
    "#Converted Column 'Province/State' from object type to string type\n",
    "\n",
    "data['Country/Region'] = data['Country/Region'].astype('string')\n",
    "data.info()"
   ]
  },
  {
   "cell_type": "code",
   "execution_count": 15,
   "id": "ba25e79d",
   "metadata": {},
   "outputs": [
    {
     "name": "stdout",
     "output_type": "stream",
     "text": [
      "<class 'pandas.core.frame.DataFrame'>\n",
      "RangeIndex: 306429 entries, 0 to 306428\n",
      "Data columns (total 9 columns):\n",
      " #   Column            Non-Null Count   Dtype         \n",
      "---  ------            --------------   -----         \n",
      " 0   SNo               306429 non-null  int64         \n",
      " 1   ObservationDate   306429 non-null  datetime64[ns]\n",
      " 2   Province/State    306429 non-null  string        \n",
      " 3   Country/Region    306429 non-null  string        \n",
      " 4   Confirmed         306429 non-null  float64       \n",
      " 5   Deaths            306429 non-null  float64       \n",
      " 6   Recovered         306429 non-null  float64       \n",
      " 7   Last Update Date  306429 non-null  datetime64[ns]\n",
      " 8   Last Update Time  299274 non-null  string        \n",
      "dtypes: datetime64[ns](2), float64(3), int64(1), string(3)\n",
      "memory usage: 21.0 MB\n"
     ]
    }
   ],
   "source": [
    "#Converted Column 'Last Update' from object type to string type\n",
    "\n",
    "data['Last Update Time'] = data['Last Update Time'].astype('string')\n",
    "data.info()"
   ]
  },
  {
   "cell_type": "code",
   "execution_count": 16,
   "id": "5268553a",
   "metadata": {},
   "outputs": [
    {
     "data": {
      "image/png": "[encoded data removed]",
      "text/plain": [
       "<Figure size 432x288 with 1 Axes>"
      ]
     },
     "metadata": {
      "needs_background": "light"
     },
     "output_type": "display_data"
    }
   ],
   "source": [
    "plt.boxplot(data.Recovered)\n",
    "plt.show()"
   ]
  },
  {
   "cell_type": "code",
   "execution_count": 17,
   "id": "5f92d31c",
   "metadata": {},
   "outputs": [],
   "source": [
    "#Eliminating Outlier where Recovered is less than 0\n",
    "\n",
    "data = (data[(data['Recovered'] >= 0)])"
   ]
  },
  {
   "cell_type": "code",
   "execution_count": 18,
   "id": "7778596c",
   "metadata": {},
   "outputs": [
    {
     "data": {
      "image/png": "[encoded data removed]",
      "text/plain": [
       "<Figure size 432x288 with 1 Axes>"
      ]
     },
     "metadata": {
      "needs_background": "light"
     },
     "output_type": "display_data"
    }
   ],
   "source": [
    "#Boxplot after eliminating Outlier\n",
    "\n",
    "plt.boxplot(data.Recovered)\n",
    "plt.show()"
   ]
  }
 ],
 "metadata": {
  "kernelspec": {
   "display_name": "Python 3 (ipykernel)",
   "language": "python",
   "name": "python3"
  },
  "language_info": {
   "codemirror_mode": {
    "name": "ipython",
    "version": 3
   },
   "file_extension": ".py",
   "mimetype": "text/x-python",
   "name": "python",
   "nbconvert_exporter": "python",
   "pygments_lexer": "ipython3",
   "version": "3.9.12"
  }
 },
 "nbformat": 4,
 "nbformat_minor": 5
}
